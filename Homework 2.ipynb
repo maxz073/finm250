{
 "cells": [
  {
   "cell_type": "markdown",
   "id": "e3eee68c",
   "metadata": {},
   "source": [
    "# Homework 2\n",
    "\n",
    "## FINM 25000 - 2025\n",
    "\n",
    "### UChicago Financial Mathematics\n",
    "\n",
    "* Mark Hendricks\n",
    "* hendricks@uchicago.edu\n",
    "\n",
    "## HBS Case\n",
    "\n",
    "### *ProShares Hedge Replication ETF*"
   ]
  },
  {
   "cell_type": "markdown",
   "id": "3ed4b263",
   "metadata": {},
   "source": [
    "***"
   ]
  },
  {
   "cell_type": "markdown",
   "id": "32a1eb4b",
   "metadata": {},
   "source": [
    "# 1. The ProShares ETF Product\n",
    "\n",
    "**Section 1 is not graded**, and you do not need to submit your answers. But you are encouraged to think about them, and we will discuss them."
   ]
  },
  {
   "cell_type": "markdown",
   "id": "976c4cd6",
   "metadata": {},
   "source": [
    "## 1. Alternative ETFs\n",
    "\n",
    "Describe the two types of investments referenced by this term."
   ]
  },
  {
   "cell_type": "markdown",
   "id": "a350c607",
   "metadata": {},
   "source": [
    "## 2. Hedge Funds.\n",
    "\n",
    "\n",
    "* a. Using just the information in the case, what are two measures by which hedge funds are an attractive investment?\n",
    "\n",
    "\n",
    "* b. What are the main benefits of investing in hedge funds via an ETF instead of directly?"
   ]
  },
  {
   "cell_type": "markdown",
   "id": "f1c6d57d",
   "metadata": {},
   "source": [
    "## 3. The Benchmarks\n",
    "\n",
    "* a. Explain as simply as possible how HFRI, MLFM, MLFM-ES, and HDG differ in their construction and purpose.\n",
    "\n",
    "\n",
    "* b. How well does the Merrill Lynch Factor Model (MLFM) track the HFRI?\n",
    "\n",
    "* c. In which factor does the MLFM have the largest loading? (See a slide in Exhibit 1.)\n",
    "\n",
    "\n",
    "* d. What are the main concerns you have for how the MLFM attempts to replicate the HFRI?\n"
   ]
  },
  {
   "cell_type": "markdown",
   "id": "8247c669",
   "metadata": {},
   "source": [
    "## 4. The HDG Product\n",
    "\n",
    "* a. What does ProShares ETF, HDG, attempt to track? Is the tracking error small?\n",
    "\n",
    "* b. HDG is, by construction, delivering beta for investors. Isn't the point of hedge funds to generate alpha? Then why would HDG be valuable?\n",
    "\n",
    "* c. The fees of a typical hedge-fund are 2% on total assets plus 20% of excess returns if positive. HDG's expense ratio is roughly 1% on total assets. What would their respective net Sharpe Ratios be, assuming both have a gross excess returns of 10% and volatility of 20%?"
   ]
  },
  {
   "cell_type": "markdown",
   "id": "ecd7e292",
   "metadata": {},
   "source": [
    "***"
   ]
  },
  {
   "cell_type": "markdown",
   "id": "fbbf79a1",
   "metadata": {},
   "source": [
    "# 2.  Analyzing the Data\n",
    "\n",
    "Use the data found on Canvas, in <b>'proshares analysis data.xlsx'</b>. \n",
    "\n",
    "It has monthly data on financial indexes and ETFs from `Aug 2011` through `May 2025`."
   ]
  },
  {
   "cell_type": "code",
   "execution_count": 12,
   "id": "b5a8698f",
   "metadata": {},
   "outputs": [],
   "source": [
    "import pandas as pd\n",
    "import numpy as np\n",
    "import matplotlib.pyplot as plt\n",
    "import seaborn as sns\n",
    "\n",
    "# Read in the Excel file with multiple sheets\n",
    "df = pd.ExcelFile('proshares_analysis_data.xlsx')\n",
    "\n",
    "# Read each sheet into separate dataframes\n",
    "hedge_fund_df = pd.read_excel(df, sheet_name='hedge_fund_series')\n",
    "merrill_factors_df = pd.read_excel(df, sheet_name='merrill_factors')\n",
    "\n",
    "# Remove the first column (dates) from each dataframe\n",
    "hedge_fund_df = hedge_fund_df.iloc[:, 1:]\n",
    "merrill_factors_df = merrill_factors_df.iloc[:, 1:]\n",
    "\n"
   ]
  },
  {
   "cell_type": "markdown",
   "id": "22b7389c",
   "metadata": {},
   "source": [
    "## 1. \n",
    "\n",
    "For the series in the \"hedge fund series\" tab, report the following summary statistics:\n",
    "* mean\n",
    "* volatility\n",
    "* Sharpe ratio\n",
    "\n",
    "Annualize these statistics."
   ]
  },
  {
   "cell_type": "code",
   "execution_count": 17,
   "id": "6c7dad7c",
   "metadata": {},
   "outputs": [
    {
     "name": "stdout",
     "output_type": "stream",
     "text": [
      "Mean:\n",
      "MLEIFCTR Index    0.034616\n",
      "MLEIFCTX Index    0.032971\n",
      "HDG US Equity     0.023319\n",
      "QAI US Equity     0.023463\n",
      "dtype: float64\n",
      "Volatility:\n",
      "MLEIFCTR Index    0.056526\n",
      "MLEIFCTX Index    0.056382\n",
      "HDG US Equity     0.058790\n",
      "QAI US Equity     0.050446\n",
      "dtype: float64\n",
      "Sharpe Ratio:\n",
      "MLEIFCTR Index    0.612388\n",
      "MLEIFCTX Index    0.584771\n",
      "HDG US Equity     0.396649\n",
      "QAI US Equity     0.465101\n",
      "dtype: float64\n"
     ]
    }
   ],
   "source": [
    "print(\"Mean:\")\n",
    "print(hedge_fund_df.mean() * 12)\n",
    "print(\"Volatility:\")\n",
    "print(hedge_fund_df.std() * np.sqrt(12))\n",
    "print(\"Sharpe Ratio:\")\n",
    "print((hedge_fund_df.mean() / hedge_fund_df.std()) * np.sqrt(12))\n"
   ]
  },
  {
   "cell_type": "markdown",
   "id": "ec8d7c08",
   "metadata": {},
   "source": [
    "## 2.\n",
    "\n",
    "For the series in the \"hedge fund series\" tab, calculate the following statistics related to tail-risk.\n",
    "* Skewness\n",
    "* Excess Kurtosis (in excess of 3)\n",
    "* VaR (.05) - the fifth quantile of historic returns\n",
    "* CVaR (.05) - the mean of the returns at or below the fifth quantile\n",
    "* Maximum drawdown - include the dates of the max/min/recovery within the max drawdown period.\n",
    "\n",
    "There is no need to annualize any of these statistics."
   ]
  },
  {
   "cell_type": "code",
   "execution_count": 18,
   "id": "fba21fc7",
   "metadata": {},
   "outputs": [
    {
     "name": "stdout",
     "output_type": "stream",
     "text": [
      "Skewness:\n",
      "MLEIFCTR Index   -0.254832\n",
      "MLEIFCTX Index   -0.240097\n",
      "HDG US Equity    -0.248623\n",
      "QAI US Equity    -0.402804\n",
      "dtype: float64\n",
      "\n",
      "Excess Kurtosis:\n",
      "MLEIFCTR Index   -1.401669\n",
      "MLEIFCTX Index   -1.439492\n",
      "HDG US Equity    -1.267191\n",
      "QAI US Equity    -1.459054\n",
      "dtype: float64\n",
      "\n",
      "VaR(0.05):\n",
      "MLEIFCTR Index   -0.028333\n",
      "MLEIFCTX Index   -0.028351\n",
      "HDG US Equity    -0.031001\n",
      "QAI US Equity    -0.018567\n",
      "Name: 0.05, dtype: float64\n",
      "\n",
      "CVaR(0.05):\n",
      "MLEIFCTR Index   -0.035857\n",
      "MLEIFCTX Index   -0.035816\n",
      "HDG US Equity    -0.037575\n",
      "QAI US Equity    -0.032696\n",
      "dtype: float64\n",
      "\n",
      "Maximum Drawdown Analysis:\n",
      "                  MLEIFCTR Index  MLEIFCTX Index  HDG US Equity  QAI US Equity\n",
      "Maximum Drawdown       -0.124302       -0.124388       -0.14072      -0.137716\n",
      "Peak Date             118.000000      118.000000            118     118.000000\n",
      "Trough Date           133.000000      133.000000            133     133.000000\n",
      "Recovery Date         150.000000      150.000000  Not recovered     150.000000\n"
     ]
    }
   ],
   "source": [
    "# Calculate skewness\n",
    "print(\"Skewness:\")\n",
    "print(hedge_fund_df.skew())\n",
    "\n",
    "# Calculate excess kurtosis (kurtosis - 3)\n",
    "print(\"\\nExcess Kurtosis:\")\n",
    "print(hedge_fund_df.kurtosis() - 3)\n",
    "\n",
    "# Calculate VaR(0.05)\n",
    "print(\"\\nVaR(0.05):\")\n",
    "print(hedge_fund_df.quantile(0.05))\n",
    "\n",
    "# Calculate CVaR(0.05)\n",
    "def calculate_cvar(series, alpha=0.05):\n",
    "    var = series.quantile(alpha)\n",
    "    return series[series <= var].mean()\n",
    "\n",
    "print(\"\\nCVaR(0.05):\")\n",
    "print(hedge_fund_df.apply(calculate_cvar))\n",
    "\n",
    "# Calculate maximum drawdown and dates\n",
    "def calculate_max_drawdown(series):\n",
    "    cumulative = (1 + series).cumprod()\n",
    "    rolling_max = cumulative.expanding().max()\n",
    "    drawdowns = cumulative / rolling_max - 1\n",
    "    \n",
    "    max_drawdown = drawdowns.min()\n",
    "    end_idx = drawdowns.idxmin()\n",
    "    peak_idx = rolling_max.loc[:end_idx].idxmax()\n",
    "    recovery_idx = drawdowns.loc[end_idx:][drawdowns.loc[end_idx:] >= 0].index.min()\n",
    "    \n",
    "    if pd.isna(recovery_idx):\n",
    "        recovery_idx = \"Not recovered\"\n",
    "    \n",
    "    return pd.Series({\n",
    "        'Maximum Drawdown': max_drawdown,\n",
    "        'Peak Date': peak_idx,\n",
    "        'Trough Date': end_idx,\n",
    "        'Recovery Date': recovery_idx\n",
    "    })\n",
    "\n",
    "print(\"\\nMaximum Drawdown Analysis:\")\n",
    "print(hedge_fund_df.apply(calculate_max_drawdown))\n"
   ]
  },
  {
   "cell_type": "markdown",
   "id": "9deb5072",
   "metadata": {},
   "source": [
    "## 3. \n",
    "\n",
    "For the series in the \"hedge fund series\" tab, run a regression of each against SPY (found in the \"merrill factors\" tab.) Include an intercept. Report the following regression-based statistics:\n",
    "* Market Beta\n",
    "* Treynor Ratio\n",
    "* Information ratio\n",
    "\n",
    "Annualize these three statistics as appropriate."
   ]
  },
  {
   "cell_type": "code",
   "execution_count": null,
   "id": "40855610",
   "metadata": {},
   "outputs": [],
   "source": [
    "# Get SPY returns from merrill_factors_df\n",
    "spy_returns = merrill_factors_df['SPY']\n",
    "\n",
    "# Initialize dictionaries to store results\n",
    "betas = {}\n",
    "treynor_ratios = {}\n",
    "information_ratios = {}\n",
    "\n",
    "# Calculate annualized risk-free rate\n",
    "rf_annual = 0.02  # Assuming 2% risk-free rate\n",
    "rf_monthly = (1 + rf_annual)**(1/12) - 1\n",
    "\n",
    "# Run regressions and calculate statistics for each hedge fund series\n",
    "for column in hedge_fund_df.columns:\n",
    "    # Run regression\n",
    "    X = sm.add_constant(spy_returns)\n",
    "    y = hedge_fund_df[column]\n",
    "    model = sm.OLS(y, X).fit()\n",
    "    \n",
    "    # Get beta\n",
    "    beta = model.params[1]\n",
    "    betas[column] = beta\n",
    "    \n",
    "    # Calculate annualized excess return\n",
    "    excess_return = (1 + (y.mean() - rf_monthly))**12 - 1\n",
    "    \n",
    "    # Calculate Treynor ratio (annualized)\n",
    "    treynor_ratio = excess_return / beta\n",
    "    treynor_ratios[column] = treynor_ratio\n",
    "    \n",
    "    # Calculate tracking error (annualized)\n",
    "    tracking_error = np.sqrt(12) * model.resid.std()\n",
    "    \n",
    "    # Calculate Information ratio (annualized)\n",
    "    alpha_annual = (1 + model.params[0])**12 - 1\n",
    "    information_ratio = alpha_annual / tracking_error\n",
    "    information_ratios[column] = information_ratio\n",
    "\n",
    "# Create DataFrame with results\n",
    "results_df = pd.DataFrame({\n",
    "    'Market Beta': betas,\n",
    "    'Treynor Ratio': treynor_ratios,\n",
    "    'Information Ratio': information_ratios\n",
    "})\n",
    "\n",
    "print(\"Regression Statistics:\")\n",
    "print(results_df)\n"
   ]
  },
  {
   "cell_type": "markdown",
   "id": "9dd139ed",
   "metadata": {},
   "source": [
    "## 4. \n",
    "\n",
    "Discuss the previous statistics, and what they tell us about...\n",
    "\n",
    "* the differences between SPY and the hedge-fund series?\n",
    "* which performs better between HDG and QAI.\n",
    "* whether HDG and the ML series capture the most notable properties of HFRI."
   ]
  },
  {
   "cell_type": "markdown",
   "id": "efc199e0",
   "metadata": {},
   "source": [
    "## 5. \n",
    "\n",
    "Report the correlation matrix for these assets.\n",
    "* Show the correlations as a heat map.\n",
    "* Which series have the highest and lowest correlations?"
   ]
  },
  {
   "cell_type": "markdown",
   "id": "f79554a0",
   "metadata": {},
   "source": [
    "## 6.\n",
    "\n",
    "Replicate HFRI with the six factors listed on the \"merrill factors\" tab. Include a constant, and run the unrestricted regression,\n",
    "\n",
    "$\\newcommand{\\hfri}{\\text{hfri}}$\n",
    "$\\newcommand{\\merr}{\\text{merr}}$\n",
    "\n",
    "$$\\begin{align}\n",
    "r^{\\hfri}_{t} &= \\alpha^{\\merr} + x_{t}^{\\merr}\\beta^{\\merr} + \\epsilon_{t}^{\\merr}\\\\[5pt]\n",
    "\\hat{r}^{\\hfri}_{t} &= \\hat{\\alpha}^{\\merr} + x_{t}^{\\merr}\\hat{\\beta}^{\\merr}\n",
    "\\end{align}$$\n",
    "\n",
    "Note that the second equation is just our notation for the fitted replication.\n",
    "\n",
    "a. Report the intercept and betas.\n",
    "\n",
    "b. Are the betas realistic position sizes, or do they require huge long-short positions?\n",
    "\n",
    "c. Report the R-squared.\n",
    "\n",
    "d. Report the volatility of $\\epsilon^{\\merr}$, the tracking error."
   ]
  },
  {
   "cell_type": "markdown",
   "id": "9760f909",
   "metadata": {},
   "source": [
    "## 7.\n",
    "\n",
    "Let's examine the replication out-of-sample (OOS).\n",
    "\n",
    "Starting with $t = 61$ month of the sample, do the following:\n",
    "\n",
    "* Use the previous 60 months of data to estimate the regression equation. \n",
    "This gives time-t estimates of the regression parameters, $\\tilde{\\alpha}^{\\merr}_{t}$ and $\\tilde{\\beta}^{\\merr}_{t}$.\n",
    "\n",
    "* Use the estimated regression parameters, along with the time-t regressor values, $x^{\\merr}_{t}$, calculate the time-t replication value that is, with respect to the regression estimate, built \"out-of-sample\" (OOS).\n",
    "\n",
    "$$\\hat{r}^{\\hfri}_{t} \\equiv \\tilde{\\alpha}^{\\merr} + (x_{t}^{\\merr})'\\tilde{\\beta}^{\\merr}$$\n",
    "\n",
    "* Step forward to $t = 62$, and now use $t = 2$ through $t = 61$ for the estimation. Re-run the steps above, and continue this process throughout the data series. Thus, we are running a rolling, 60-month regression for each point-in-time.\n",
    "\n",
    "How well does the out-of-sample replication perform with respect to the target?"
   ]
  },
  {
   "cell_type": "markdown",
   "id": "f7433d2f",
   "metadata": {},
   "source": [
    "***"
   ]
  },
  {
   "cell_type": "markdown",
   "id": "4f5883f2",
   "metadata": {},
   "source": [
    "# 3.  Extensions\n",
    "<i>**This section is not graded, and you do not need to submit it.** Still, we may discuss it in class some extensions in class.\n",
    "\n",
    "For those looking for a challenge, try a few of these."
   ]
  },
  {
   "cell_type": "markdown",
   "id": "2c042de1",
   "metadata": {},
   "source": [
    "## 1. \n",
    "\n",
    "Merrill constrains the weights of each asset in its replication regression of HFRI. Try constraining your weights by re-doing 2.6.\n",
    "\n",
    "* Use Non-Negative Least Squares (NNLS) instead of OLS.\n",
    "* Go further by using a Generalized Linear Model to put separate interval constraints on each beta, rather than simply constraining them to be non-negative.\n",
    "\n",
    "#### Hints\n",
    "* Try using LinearRegression in scikit-learn with the parameter `positive=True`. \n",
    "* Try using GLM in statsmodels."
   ]
  },
  {
   "cell_type": "markdown",
   "id": "02ee228d",
   "metadata": {},
   "source": [
    "## 2. \n",
    "\n",
    "Let's decompose a few other targets to see if they behave as their name suggests.\n",
    "\n",
    "* Regress HEFA on the same style factors used to decompose HFRI. Does HEFA appear to be a currency-hedged version of EFA?\n",
    "\n",
    "* Decompose TRVCI with the same style factors used to decompose HFRI. The TRVCI Index tracks venture capital funds--in terms of our styles, what best describes venture capital?\n",
    "\n",
    "* TAIL is an ETF that tracks SPY, but that also buys put options to protect against market downturns. Calculate the statistics in questions 2.1-2.3 for TAIL. Does it seem to behave as indicated by this description? That is, does it have high correlation to SPY while delivering lower tail risk?"
   ]
  },
  {
   "cell_type": "markdown",
   "id": "9c20b444",
   "metadata": {},
   "source": [
    "## 3. \n",
    "\n",
    "The ProShares case introduces Levered ETFs. ProShares made much of its name originally through levered, or \"geared\" ETFs.\n",
    "\n",
    "Explain conceptually why Levered ETFs may track their index well for a given day but diverge over time. How is this exacerbated in volatile periods like 2008?"
   ]
  },
  {
   "cell_type": "markdown",
   "id": "3313d36c",
   "metadata": {},
   "source": [
    "## 4.\n",
    "\n",
    "Analyze SPXU and UPRO relative to SPY.\n",
    "- SPXU is ProShares -3x SPX ETF.\n",
    "- UPRO is ProShres +3x SPX ETF.\n",
    "\n",
    "Questions:\n",
    "* Analyze them with the statistics from 2.1-2.3. \n",
    "\n",
    "* Do these two ETFs seem to live up to their names?\n",
    "\n",
    "* Plot the cumulative returns of both these ETFs along with SPY.\n",
    "\n",
    "* What do you conclude about levered ETFs?"
   ]
  },
  {
   "cell_type": "markdown",
   "id": "2ab4084a",
   "metadata": {},
   "source": [
    "## 5.\n",
    "\n",
    "In `Section 2`, we estimated the replications using an intercept. Try the full-sample estimation, but this time without an intercept.\n",
    "\n",
    "$$\\begin{align}\n",
    "r^{\\hfri}_{t} &= \\alpha^{merr} + x_{t}^{\\merr}\\beta^{\\merr} + \\epsilon_{t}^{\\merr}\\\\[5pt]\n",
    "\\check{r}^{\\hfri}_{t} &= \\check{\\alpha}^{\\merr} + x_{t}^{\\merr}\\check{\\beta}^{\\merr}\n",
    "\\end{align}$$\n",
    "\n",
    "Report\n",
    "\n",
    "* the regression beta. How does it compare to the estimated beta with an intercept, $\\hat{\\beta}^{\\merr}$?\n",
    "\n",
    "* the mean of the fitted value, $\\check{r}^{\\hfri}_{t}$. How does it compare to the mean of the HFRI?\n",
    "\n",
    "* the correlations of the fitted values, $\\check{r}^{\\hfri}_{t}$ to the HFRI. How does the correlation compare to that of the fitted values with an intercept, $\\hat{r}^{\\hfri}_{t}$\n",
    "\n",
    "Do you think Merrill and ProShares fit their replicators with an intercept or not?"
   ]
  },
  {
   "cell_type": "markdown",
   "id": "2acea83e",
   "metadata": {},
   "source": [
    "***"
   ]
  }
 ],
 "metadata": {
  "hide_input": false,
  "kernelspec": {
   "display_name": "base",
   "language": "python",
   "name": "python3"
  },
  "language_info": {
   "codemirror_mode": {
    "name": "ipython",
    "version": 3
   },
   "file_extension": ".py",
   "mimetype": "text/x-python",
   "name": "python",
   "nbconvert_exporter": "python",
   "pygments_lexer": "ipython3",
   "version": "3.12.7"
  }
 },
 "nbformat": 4,
 "nbformat_minor": 5
}
